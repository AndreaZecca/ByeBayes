{
 "cells": [
  {
   "cell_type": "markdown",
   "metadata": {},
   "source": [
    "# Bye-Bayes Network project\n",
    "## Introduction\n",
    "The aim of the proposed project is to analyze the set of reasons that lead people of all ages and sexes to death.\n",
    "The probabilities relating to the events have been extrapolated from official documents that can be consulted at the following links according to the specific category of event:\n",
    "<ol>\n",
    "    <li>  <b>Most of the probabilities:</b> <a>https://www.thelancet.com/cms/10.1016/S0140-6736(18)32203-7/attachment/0aaa0b77-f3e8-452c-a5c6-4debeaeae82d/mmc2.pdf</a></br>\n",
    "    <b>And the related study:</b> <a>https://www.thelancet.com/journals/lancet/article/PIIS0140-6736(18)32203-7/fulltext</a>;\n",
    "    <li>  <b>Probability of fall:</b> <a>https://injuryprevention.bmj.com/content/injuryprev/11/2/115.full.pdf</a>;\n",
    "    <li>  <b>Probability of natural disasters:</b> <a>https://ourworldindata.org/natural-disasters</a>;\n",
    "    <li>  <b>Probability of poisoning:</b> <a>https://www.poison.org/poison-statistics-national</a>;\n",
    "    <li>  <b>Probability of self-harm:</b> <a>https://ourworldindata.org/suicide</a>;\n",
    "    <li>  <b>Probability of malignancy (neoplasms):</b> <a>https://www.ncbi.nlm.nih.gov/pmc/articles/PMC4544764/</a>;\n",
    "    <li>  <b>Probability of respiratory infections:</b> <a>https://onlinelibrary.wiley.com/doi/epdf/10.1111/irv.12639</a>;\n",
    "    <li>  <b>Probability of cardiovascular disease:</b> <a>https://www.ncbi.nlm.nih.gov/pmc/articles/PMC7847085/</a>;\n",
    "    <li>  <b>Correlation between cardiovascular disease and possibility of fall:</b> <a>https://www.ahajournals.org/doi/full/10.1161/HCQ.0000000000000108?rfr_dat=cr_pub++0pubmed&url_ver=Z39.88-2003&rfr_id=ori%3Arid%3Acrossref.org</a>;\n",
    "    <li>  <b>Study about Covid-19 infectivity and relation with respiratory infections:</b> <a>https://jamanetwork.com/journals/jamanetworkopen/fullarticle/2777314</a>;\n",
    "</ol>\n",
    "\n",
    "In particular, from the study in the first element of the list we have collected the possibilities of suffering fatal damage from one of the causes, while the following links refer to the chances of single unfortunate events taking place."
   ]
  },
  {
   "cell_type": "code",
   "execution_count": null,
   "metadata": {},
   "outputs": [],
   "source": [
    "import pgmpy as pg\n",
    "from pgmpy.readwrite import BIFReader\n",
    "import networkx as nx\n",
    "from pgmpy.models import BayesianModel, BayesianNetwork\n",
    "from networkx.drawing.nx_pydot import graphviz_layout\n",
    "import pydot\n",
    "import matplotlib.pyplot as plt\n",
    "import pandas as pd\n",
    "import numpy as np\n",
    "import seaborn as sns\n",
    "from pgmpy.estimators import HillClimbSearch, K2Score, ExhaustiveSearch, BicScore, BDeuScore, BDsScore, MmhcEstimator, BayesianEstimator, MaximumLikelihoodEstimator\n",
    "from pgmpy.inference import VariableElimination\n",
    "import itertools"
   ]
  },
  {
   "cell_type": "code",
   "execution_count": null,
   "metadata": {},
   "outputs": [],
   "source": [
    "# Graph printing and png creation\n",
    "\n",
    "def draw_graph(model,name,color=\"green\", title=\"\"):\n",
    "    p = graphviz_layout(model, prog=\"dot\")\n",
    "    plt.figure(figsize=(15, 8))\n",
    "    nx.draw(model, with_labels=True, pos=p, node_size=1400, node_color=color, font_size=6)\n",
    "    if title != \"\":\n",
    "        plt.title(title)\n",
    "    plt.savefig('./img/' + name + '.png')\n",
    "    plt.show()"
   ]
  },
  {
   "cell_type": "markdown",
   "metadata": {},
   "source": [
    "## Models\n",
    "Here are the two main models we rely on within the project, both built manually. </br>\n",
    "The difference between the two models is that in the second an extra \"Covid\" node was added to analyze the variations that the spread of SARS-CoV-2 has brought in the area of ​​respiratory tract infections and number of deaths."
   ]
  },
  {
   "cell_type": "code",
   "execution_count": null,
   "metadata": {},
   "outputs": [],
   "source": [
    "# Manual constructed model\n",
    "\n",
    "mc_model = BayesianNetwork([\n",
    "    ('Age-range', 'Other-injuries'), ('Age-range', 'Falls'), ('Age-range', 'Poisonings'), ('Age-range', 'Transport-incident'), ('Age-range', 'SHV'),\n",
    "    ('Age-range', 'Respiratory-infection'), ('Age-range', 'Malignancy'), ('Age-range', 'Other-sickness'), ('Age-range', 'Cardiovascular-disease'),\n",
    "    ('Gender', 'Other-injuries'), ('Gender', 'Falls'), ('Gender', 'Poisonings'), ('Gender', 'Transport-incident'), ('Gender', 'SHV'), \n",
    "    ('Gender', 'Respiratory-infection'), ('Gender', 'Malignancy'), ('Gender', 'Other-sickness'), ('Gender', 'Cardiovascular-disease'),\n",
    "    ('Cardiovascular-disease', 'Falls'), ('Cardiovascular-disease', 'Transport-incident'), ('Cardiovascular-disease', 'Sickness'), \n",
    "    ('Other-injuries', 'Death'), ('Unintentional-injuries', 'Death'), ('Falls', 'Unintentional-injuries'), ('Poisonings', 'Unintentional-injuries'), \n",
    "    ('Nature-force', 'Unintentional-injuries'), ('Transport-incident', 'Death'), ('SHV', 'Death'), ('Respiratory-infection', 'Sickness'), \n",
    "    ('Malignancy', 'Sickness'), ('Other-sickness', 'Death'), ('Sickness', 'Death')\n",
    "])\n",
    "\n",
    "draw_graph(mc_model,\"mc_model\")"
   ]
  },
  {
   "cell_type": "code",
   "execution_count": null,
   "metadata": {},
   "outputs": [],
   "source": [
    "# Manual constructed model with \"Covid\" node\n",
    "\n",
    "mc_model_Covid = BayesianNetwork([\n",
    "    ('Age-range', 'Other-injuries'), ('Age-range', 'Falls'), ('Age-range', 'Poisonings'), ('Age-range', 'Transport-incident'), ('Age-range', 'SHV'),\n",
    "    ('Age-range', 'Respiratory-infection'), ('Age-range', 'Malignancy'), ('Age-range', 'Other-sickness'), ('Age-range', 'Cardiovascular-disease'),\n",
    "    ('Age-range', 'Covid'), ('Gender', 'Other-injuries'), ('Gender', 'Falls'), ('Gender', 'Poisonings'), ('Gender', 'Transport-incident'),\n",
    "    ('Gender', 'SHV'), ('Gender', 'Respiratory-infection'), ('Gender', 'Malignancy'), ('Gender', 'Other-sickness'), ('Gender', 'Cardiovascular-disease'),\n",
    "    ('Gender', 'Covid'), ('Covid', 'Respiratory-infection'), ('Cardiovascular-disease', 'Falls'), ('Cardiovascular-disease', 'Transport-incident'), \n",
    "    ('Cardiovascular-disease', 'Sickness'), ('Other-injuries', 'Death'), ('Unintentional-injuries', 'Death'), ('Falls', 'Unintentional-injuries'),\n",
    "    ('Poisonings', 'Unintentional-injuries'), ('Nature-force', 'Unintentional-injuries'), ('Transport-incident', 'Death'),\n",
    "    ('SHV', 'Death'), ('Respiratory-infection', 'Sickness'), ('Malignancy', 'Sickness'), ('Other-sickness', 'Death'), ('Sickness', 'Death')\n",
    "])\n",
    "\n",
    "draw_graph(mc_model_Covid,\"mc_model_Covid\")"
   ]
  },
  {
   "cell_type": "markdown",
   "metadata": {},
   "source": [
    "## Dataset\n",
    "\n",
    "The dataset used could be found in \"./data/dataset.csv\" and it is composed of 1 milion rows. In the dataset there is a distinction between something that can happen (4-) to a person and something that had serious consequences to the person. Each row containing informations about:\n",
    "1. ID: a unique identifier of the row\n",
    "2. Age-range:\n",
    "    - young if age is between 0-14\n",
    "    - adult if age is between 15-70\n",
    "    - old if age is 70+ \n",
    "    <br></br> <br/>\n",
    "3. Gender: male or female\n",
    "4. Respiratory infection: 1 if the person contracted a respiratory infection, 0 otherwise\n",
    "5. Malignancy: 1 if the person contracted a malignancy, 0 otherwise\n",
    "6. Cardio-vascular disease: 1 if the person has been affected by a cardio-vascular diseases, 0 otherwise\n",
    "7. Poisonings: 1 if the person has been poisoned during the year, 0 otherwise\n",
    "8. SHV (Self-harm violence): 1 if the person has been victim of self-harm violence, 0 otherwise\n",
    "9. Falls: 1 if person has fallen during the year, 0 otherwise\n",
    "10. Nature Force: 1 if the person has been victim of natural disasters, 0 otherwise\n",
    "11. Transport incident: 1 if the person has been victim of a transport incident, 0 otherwise\n",
    "\n",
    "12. Other injuries: 1 if the person has been victim of other, not tracked, injuries that had serious consequences on the person's health, 0 otherwise\n",
    "13. Other sickess: 1 if the person suffered from other, not tracked, sickensses that had serious consequences on the person's health, 0 otherwise\n",
    "14. Sickness: 1 if something among respiratory-infection, malignancy or cardiovascular-disease have badly affected the person's healt, 0 otherwise \n",
    "15. Unintentional injuries: 1 if something among falls, poisoning or nature-force have badly affected the person's healt, 0 otherwise\n",
    "16. Death: 1 if the person died, 0 otherwise\n",
    "\n",
    "The dataset is generated by a python script (\"./data/datasetConstructor.py\"). In order to generate the dataset, you need to specify the amout of rows you would like to generate. There it is parameter called \"order\" that indicate the order of magnitude in scale 10 that represent the numbers of rows you want to create. The generation of each row depends on several arrays of probabilities, each for a different information about the randomly generated person. The probabilities are not casual and they are the result of several researches focused on this scope (all the links to theese researches can be found in the introduction)."
   ]
  },
  {
   "cell_type": "code",
   "execution_count": null,
   "metadata": {},
   "outputs": [],
   "source": [
    "# The commented version of the import is needed if you want to change some global data inside datasetConstructor.py\n",
    "# Dataset automatic construction and retrieving\n",
    "from imp import reload\n",
    "import data.datasetConstructor\n",
    "reload(data.datasetConstructor)\n",
    "data.datasetConstructor.datasetConstructor()\n",
    "\n",
    "# from data.datasetConstructor import datasetConstructor\n",
    "# Please remove following comment if you want to generate a dataset with current informations\n",
    "# datasetConstructor()\n",
    "\n",
    "dataset = pd.read_csv(\"./data/dataset.csv\")\n",
    "dataset.info(verbose=False)\n",
    "dataset.head()\n",
    "\n"
   ]
  },
  {
   "cell_type": "markdown",
   "metadata": {},
   "source": [
    "### Overview of the dataset\n",
    "In the table above we can see the first rows of the generated dataset. Many of the lines are filled with zeros, but this is due to the fact that we are working with real percentages based on the entire Earth population in 2017, so it is not surprising that some people are not associated with any of the reported events. </br>\n",
    "\n",
    "While the following heatmaps show a projection obtained first grouping by Age-range, then by Gender and summing all the matches in order to obtain the total cases for each of the combinations.\n"
   ]
  },
  {
   "cell_type": "code",
   "execution_count": null,
   "metadata": {},
   "outputs": [],
   "source": [
    "# Creation of a compressed dataset grouping data for age-range and Gender and then summing out all the positive cases\n",
    "\n",
    "compressed_dataset = dataset.drop(\"ID\",axis=1).groupby([\"Age-range\",\"Gender\"]).sum()\n",
    "compressed_dataset.head(6)"
   ]
  },
  {
   "cell_type": "code",
   "execution_count": null,
   "metadata": {},
   "outputs": [],
   "source": [
    "columns = [\"Falls\",\"Poisonings\",\"Nature-force\",\"Cardiovascular-disease\",\"Malignancy\",\"Respiratory-infection\",\"Transport-incident\",\"Sickness\",\"Other-injuries\",\"Unintentional-injuries\",\"Other-sickness\",\"SHV\",\"Death\"]\n",
    "index = [\"male\",\"female\"]\n",
    "\n",
    "young = np.array(compressed_dataset.drop([\"old\",\"adult\"]))\n",
    "adult = np.array(compressed_dataset.drop([\"young\",\"old\"]))\n",
    "old = np.array(compressed_dataset.drop([\"young\",\"adult\"]))\n",
    "\n",
    "dataYoung = pd.DataFrame(young,index=index, columns=columns)\n",
    "dataAdult = pd.DataFrame(adult,index=index, columns=columns)\n",
    "dataOld = pd.DataFrame(old,index=index, columns=columns)\n"
   ]
  },
  {
   "cell_type": "markdown",
   "metadata": {},
   "source": [
    "### Heatmaps\n",
    "The following section is dedicated to the graphical representation of several heatmaps, one for each sub-category of age. Each heatmap contains two rows: one for male and the other one for female.\n",
    "The heatmaps contains the number of people affected by each monitored event, divided by age and gender."
   ]
  },
  {
   "cell_type": "code",
   "execution_count": null,
   "metadata": {},
   "outputs": [],
   "source": [
    "plt.figure(figsize=(14,3))\n",
    "sns.heatmap(dataYoung, annot=True ,fmt=\"g\", cmap='RdYlGn_r', linewidths=0.5).set_title(\"Young\")\n",
    "print()"
   ]
  },
  {
   "cell_type": "code",
   "execution_count": null,
   "metadata": {},
   "outputs": [],
   "source": [
    "plt.figure(figsize=(14,3))\n",
    "sns.heatmap(dataAdult, annot=True ,fmt=\"g\", cmap='RdYlGn_r', linewidths=0.5).set_title(\"Adult\")\n",
    "print()"
   ]
  },
  {
   "cell_type": "code",
   "execution_count": null,
   "metadata": {},
   "outputs": [],
   "source": [
    "plt.figure(figsize=(14,3))\n",
    "sns.heatmap(dataOld, annot=True ,fmt=\"g\", cmap='RdYlGn_r', linewidths=0.5).set_title(\"Old\")\n",
    "print()"
   ]
  },
  {
   "cell_type": "markdown",
   "metadata": {},
   "source": [
    "#### Heatmap - Conclusions\n",
    "As can be seen from the heatmaps above, the main events affecting people in all the ages considered is \"Respiratory infection\". In fact, this effect is the one with the highest probability in the dataset constructor."
   ]
  },
  {
   "cell_type": "code",
   "execution_count": null,
   "metadata": {},
   "outputs": [],
   "source": [
    "events_heatmap  = dataset.drop([\"ID\",\"Age-range\",\"Gender\"],axis=1).sum()\n",
    "\n",
    "events = np.array(events_heatmap.axes)[0]\n",
    "values = np.array(events_heatmap)\n",
    "\n",
    "bar_width = 0.05\n",
    "large_bar = 0.2\n",
    "fig, (ax1,ax2,ax3) = plt.subplots(3,1,figsize =(7, 9))\n",
    "\n",
    "############################################################# #1\n",
    "\n",
    "falls = [values[0]]\n",
    "poisonings = [values[1]]\n",
    "nature = [values[2]]\n",
    "unintentional = [values[9]]\n",
    "\n",
    "br1 = np.arange(len(falls))\n",
    "br2 = [x + bar_width for x in br1]\n",
    "br3 = [x + bar_width for x in br2]\n",
    "br4 = [x + large_bar for x in br3]\n",
    "\n",
    "ax1.bar(br1, falls, color ='r', width = bar_width,\n",
    "        edgecolor ='black', label ='Falls')\n",
    "ax1.bar(br2, poisonings, color ='g', width = bar_width,\n",
    "        edgecolor ='black', label ='Poisoning')\n",
    "ax1.bar(br3, nature, color ='b', width = bar_width,\n",
    "        edgecolor ='black', label ='Nature force')\n",
    "ax1.bar(br4, unintentional, color ='y', width = bar_width,\n",
    "        edgecolor ='black', label ='Unintentional injuries')\n",
    "\n",
    "ax1.set_ylabel('Cases', fontweight ='bold', fontsize = 15)\n",
    "ax1.set_xticks([],labels=[]) \n",
    "ax1.set_yscale(\"log\")\n",
    "ax1.legend()\n",
    "\n",
    "############################################################# #2\n",
    "\n",
    "cardiovascular = [values[3]]\n",
    "malignancy = [values[4]]\n",
    "respiratory = [values[5]]\n",
    "sickness = [values[7]]\n",
    "\n",
    "br1 = np.arange(len(cardiovascular))\n",
    "br2 = [x + bar_width for x in br1]\n",
    "br3 = [x + bar_width for x in br2]\n",
    "br4 = [x + large_bar for x in br3]\n",
    "\n",
    "ax2.bar(br1, cardiovascular, color ='r', width = bar_width,\n",
    "        edgecolor ='black', label ='Cardiovascular disease')\n",
    "ax2.bar(br2, malignancy, color ='g', width = bar_width,\n",
    "        edgecolor ='black', label ='Malignancy')\n",
    "ax2.bar(br3, respiratory, color ='b', width = bar_width,\n",
    "        edgecolor ='black', label ='Respiratory infection')\n",
    "ax2.bar(br4, sickness, color ='y', width = bar_width,\n",
    "        edgecolor ='black', label ='Sickness')\n",
    "\n",
    "ax2.set_ylabel('Cases', fontweight ='bold', fontsize = 15)\n",
    "ax2.set_xticks([],labels=[]) \n",
    "ax2.set_yscale(\"log\")\n",
    "ax2.legend()\n",
    "\n",
    "############################################################# #3\n",
    "\n",
    "# unintentional\n",
    "# sickness \n",
    "transport = [values[6]]\n",
    "oth_inj = [values[8]]\n",
    "oth_sick = [values[9]]\n",
    "shv = [values[10]]\n",
    "death = [values[11]]\n",
    "\n",
    "\n",
    "br1 = np.arange(len(unintentional))\n",
    "br2 = [x + bar_width for x in br1]\n",
    "br3 = [x + bar_width for x in br2]\n",
    "br4 = [x + bar_width for x in br3]\n",
    "br5 = [x + bar_width for x in br4]\n",
    "br6 = [x + bar_width for x in br5]\n",
    "br7 = [x + large_bar for x in br6]\n",
    "\n",
    "ax3.bar(br1, unintentional, color ='r', width = bar_width,\n",
    "        edgecolor ='black', label ='Unintentional injuries')\n",
    "ax3.bar(br2, sickness, color ='g', width = bar_width,\n",
    "        edgecolor ='black', label ='Sickness')\n",
    "ax3.bar(br3, transport, color ='b', width = bar_width,\n",
    "        edgecolor ='black', label ='Transport injuries')\n",
    "ax3.bar(br4, oth_inj, color ='y', width = bar_width,\n",
    "        edgecolor ='black', label ='Other injuries')\n",
    "ax3.bar(br5, oth_sick, color ='m', width = bar_width,\n",
    "        edgecolor ='black', label ='Other sicknesses')\n",
    "ax3.bar(br6, shv, color ='c', width = bar_width,\n",
    "        edgecolor ='black', label ='Self harm and violence')\n",
    "ax3.bar(br7, death, color ='k', width = bar_width,\n",
    "        edgecolor ='black', label ='Deaths')\n",
    "\n",
    "ax3.set_ylabel('Cases', fontweight ='bold', fontsize = 15)\n",
    "ax3.set_xticks([],labels=[]) \n",
    "ax3.set_yscale(\"log\")\n",
    "ax3.legend(loc=\"best\")\n",
    "plt.show()\n",
    "\n"
   ]
  },
  {
   "cell_type": "code",
   "execution_count": null,
   "metadata": {},
   "outputs": [],
   "source": [
    "# estimator = HillClimbSearch(dataset.drop(np.arange(500,10000,9500)))\n",
    "\n",
    "# hillclimb_model = estimator.estimate( scoring_method=BDsScore(dataset) )\n",
    "# hillclimb_model = BayesianNetwork(hillclimb_model)\n",
    "# draw_graph(hillclimb_model,\"hillclimb_model\")"
   ]
  },
  {
   "cell_type": "code",
   "execution_count": null,
   "metadata": {},
   "outputs": [],
   "source": [
    "mc_model.cpds = []\n",
    "\n",
    "dataset = pd.read_csv(\"./data/dataset.csv\", dtype={\n",
    "    'Falls': str,\n",
    "    'Poisonings': str,\n",
    "    'Nature-force': str,\n",
    "    'Cardiovascular-disease': str,\n",
    "    'Malignancy': str,\n",
    "    'Respiratory-infection': str,\n",
    "    'Transport-incident': str,\n",
    "    'Sickness': str,\n",
    "    'Other-injuries': str,\n",
    "    'Unintentional-injuries': str,\n",
    "    'Other-sickness': str,\n",
    "    'SHV': str,\n",
    "    'Death': str\n",
    "})\n",
    "d = dataset.drop(\"ID\",axis=1)\n",
    "\n",
    "mc_model.fit(data=d,\n",
    "            estimator=BayesianEstimator,\n",
    "            prior_type=\"BDeu\",\n",
    "            equivalent_sample_size=10,\n",
    "            complete_samples_only=False,\n",
    ")\n",
    "\n",
    "print(f\"Check model: {mc_model.check_model()=}\")\n",
    "\n",
    "# for cpd in mc_model.get_cpds():\n",
    "#     print(f\"CPT of {cpd.variable}\")\n",
    "#     print(cpd)\n",
    "#     pass"
   ]
  },
  {
   "cell_type": "code",
   "execution_count": null,
   "metadata": {},
   "outputs": [],
   "source": [
    "def print_cpd_table(cpd, title=\"\"):\n",
    "    #Getting a list of lists of states for every variable of cpd\n",
    "    states_list = []\n",
    "    for variable in cpd.state_names.keys():\n",
    "        states_list.append(cpd.state_names[variable])\n",
    "\n",
    "    rows = []\n",
    "    i= 0\n",
    "\n",
    "    #Create combinations of states of every evidence\n",
    "    states_combos = list(itertools.product(*states_list))\n",
    "    #Getting a plain array of all probabilities for simplicity\n",
    "    values = cpd.values.flatten()\n",
    "\n",
    "    #Creating a row for every possibile combination of states, concatenating the probabilities\n",
    "    for combo in states_combos:\n",
    "        row = []\n",
    "        for elem in combo:\n",
    "            row += [str(elem)]\n",
    "        row += [str(round(values[i], 4))]\n",
    "        rows.append(row)\n",
    "        i+=1\n",
    "\n",
    "    #Getting columns names for every variable\n",
    "    col_labels = []\n",
    "    for state in cpd.state_names.keys():\n",
    "        col_labels+= [state]\n",
    "    col_labels += [\"Probability\"]\n",
    "\n",
    "    #Calculating figsize\n",
    "    calculated_width = len(list(cpd.state_names.keys()))+1\n",
    "    calculated_length = sum([len(cpd.state_names[var]) for var in cpd.state_names.keys()])+1\n",
    "    \n",
    "    #Getting colors for first row\n",
    "    col_colours = np.full(calculated_width, \"#80bc99\")\n",
    "    col_colours[0] = col_colours[calculated_width-1] = \"#53c180\"\n",
    "    \n",
    "    #Plotting the constructed table\n",
    "    fig, ax1 = plt.subplots(figsize=(calculated_width, calculated_length))\n",
    "    table = ax1.table(cellText = rows,\n",
    "                      cellLoc = \"center\",\n",
    "                      colLabels = col_labels,\n",
    "                      colColours = col_colours,\n",
    "                      loc = \"center\")\n",
    "    \n",
    "    #Visual Fixing\n",
    "    for i in range(1, len(rows)+1):\n",
    "        if i%2:\n",
    "            for j in range(0, len(cpd.state_names.keys())+1):\n",
    "                table[(i, j)].set_facecolor(\"#dbdbdb\")\n",
    "\n",
    "    table.scale(2, 2)\n",
    "    table.set_fontsize(16)\n",
    "    ax1.axis(\"off\")\n",
    "    ax1.set_title(cpd.variable + title, fontsize=16)\n",
    "\n",
    "for cpd in mc_model.get_cpds():\n",
    "    print_cpd_table(cpd)\n",
    "    pass"
   ]
  },
  {
   "cell_type": "code",
   "execution_count": null,
   "metadata": {},
   "outputs": [],
   "source": [
    "\n",
    "def getPossibleGroups(evidences):\n",
    "    values = []\n",
    "    for evidence in evidences:\n",
    "        values.append(evidence[\"values\"])\n",
    "    return list(itertools.product(*values))\n",
    "\n",
    "# elements: array of tuples where the first element is the node of the query and the other elements are the evidences to use\n",
    "\n",
    "def completeQueriesGenerator(model,elements):\n",
    "    all_states = model.states\n",
    "    print(all_states)\n",
    "    all_queries = []\n",
    "    for element in elements:\n",
    "        node = element[0]\n",
    "        queries = []\n",
    "        evidences = []\n",
    "        for i in range(1,len(element)):\n",
    "            evidences.append({\"evidence\":element[i],\"values\":all_states[element[i]]})\n",
    "\n",
    "        groups = getPossibleGroups(evidences)\n",
    "        for group in groups: \n",
    "            evidences_obj = {}\n",
    "            for evidence_value in zip(evidences, group): \n",
    "                curr_key = evidence_value[0]['evidence']\n",
    "                evidences_obj[curr_key] = evidence_value[1]\n",
    "            queries.append(([node], evidences_obj))        \n",
    "        all_queries = all_queries + queries\n",
    "    return all_queries\n",
    "\n",
    "#q = completeQueriesGenerator(mc_model,((\"Other-injuries\",\"Age-range\",\"Gender\"),))"
   ]
  },
  {
   "cell_type": "code",
   "execution_count": null,
   "metadata": {},
   "outputs": [],
   "source": [
    "allStates = mc_model.states\n",
    "\n",
    "# Inference\n",
    "def inference(model, target, evidence):\n",
    "    model_inference = VariableElimination(model)\n",
    "    return model_inference.query(target, evidence)\n",
    "\n",
    "\n",
    "def plot_tables(models, targets, evidences= {}, error = False, err_label = \"Error\"):\n",
    "    #Getting tables given targets and evidences\n",
    "    \n",
    "    #Getting all models names and columns labels\n",
    "    model_names = [model.name for model in models]\n",
    "    col_labels = targets + model_names \n",
    "    if error:\n",
    "        col_labels += [err_label]\n",
    "\n",
    "    #Constructing header columns colours array\n",
    "    col_colours = np.full(len(targets) + len(models) + (1 if error else 0), \"#80bc99\")\n",
    "    if error:\n",
    "        col_colours[len(col_colours)-1] = \"red\"\n",
    "\n",
    "    #Getting a list of all targets states\n",
    "    targets_values = {}\n",
    "    for target in targets:\n",
    "        targets_values[target] = mc_model.states[target]\n",
    "\n",
    "    #Calculating all probabilites for targets, given evidences, with every given model\n",
    "    query_by_model = {}\n",
    "    for model in models:\n",
    "        real_evidences = {}\n",
    "        for key,val in evidences.items():\n",
    "            if key in model.model.nodes:\n",
    "                real_evidences[key] = val\n",
    "            # print(\"REAL EVIDENCES: \", real_evidences)\n",
    "        query_by_model[model] = inference(model.model, targets, real_evidences)\n",
    "    \n",
    "    #Generating all possible combinations of values\n",
    "    rows = []\n",
    "    targets_combinations = list(itertools.product(*targets_values.values()))\n",
    "    \n",
    "    #For every combination and every model, generating a row with calculated probability\n",
    "    for combo in targets_combinations:\n",
    "        row = [*combo]\n",
    "        combo_queries = [round(query_by_model[this_model].get_value(**dict(zip(targets_values.keys(), combo))), 4) for this_model in query_by_model.keys()] \n",
    "        row += combo_queries\n",
    "        if error and len(row)>2:\n",
    "            row += [round(abs(row[1] - row[2]), 4)]\n",
    "        rows.append(row)\n",
    "    \n",
    "    title = f\"P({', '.join(targets)} | {', '.join([f'{key}={value}' for (key, value) in evidences.items()])})\"\n",
    "\n",
    "    #Plotting the table of inference\n",
    "    fig, ax1 = plt.subplots(figsize=(len(targets_combinations) + 5, len(targets)+len(models) +(1 if error else 0) +5 ))\n",
    "    table = ax1.table(cellText = rows,\n",
    "                      cellLoc = \"center\",\n",
    "                      colLabels = col_labels,\n",
    "                      colColours = col_colours,\n",
    "                      loc = \"center\")\n",
    "    \n",
    "    #Visual Fixing\n",
    "    for i in range(1, len(rows)+1):\n",
    "        if not i%2:\n",
    "            for j in range(0, len(targets) + len(models) + (1 if error else 0)):\n",
    "                table[(i, j)].set_facecolor(\"#dbdbdb\")\n",
    "\n",
    "    table.scale(2, 2)\n",
    "    table.set_fontsize(12)\n",
    "    ax1.axis(\"off\")\n",
    "    ax1.set_title(title)\n",
    "\n"
   ]
  },
  {
   "cell_type": "code",
   "execution_count": null,
   "metadata": {},
   "outputs": [],
   "source": [
    "def print_queries(model, queries):\n",
    "    handWrittenQueries = [\n",
    "        #([\"X\"], {\"evidence\": \"value\"}),   \n",
    "    ]\n",
    "    queries = queries + handWrittenQueries\n",
    "    for query in queries:\n",
    "        plot_tables(model, *query)"
   ]
  },
  {
   "cell_type": "code",
   "execution_count": null,
   "metadata": {},
   "outputs": [],
   "source": [
    "class Model:\n",
    "    def __init__(self, model, name):\n",
    "        self.model = model\n",
    "        self.name = name\n",
    "        \n",
    "models = [\n",
    "    Model(model=mc_model, name=\"Manual Model\"),\n",
    "    #Model(model=hillclimb_model, name=\"HillClimb Model\", dataset=dataset),\n",
    "]\n",
    "\n",
    "q = completeQueriesGenerator(mc_model,((\"Unintentional-injuries\",\"Age-range\",\"Gender\",\"Cardiovascular-disease\"),))\n",
    "print_queries(models, q)"
   ]
  },
  {
   "cell_type": "code",
   "execution_count": null,
   "metadata": {},
   "outputs": [],
   "source": [
    "def markov_blanket_graph(node, model):\n",
    "    blanket = model.get_markov_blanket(node)\n",
    "    color = [\"green\" if n == node else \"yellow\" if n in blanket else \"grey\" for n in model.nodes]\n",
    "    title = f'Markov blanket of {node}'\n",
    "    draw_graph(model, title, color, title)\n",
    "\n",
    "markov_blanket_graph(\"Malignancy\", mc_model)"
   ]
  },
  {
   "cell_type": "code",
   "execution_count": null,
   "metadata": {},
   "outputs": [],
   "source": [
    "def active_trail_graph(target, evidences, model):\n",
    "    trail_nodes = model.active_trail_nodes(target, observed=evidences).get(target)\n",
    "    trail_nodes.remove(target)\n",
    "    color = [\"green\" if n == target else \"yellow\" if n in trail_nodes else \"red\" if n in evidences else \"grey\" for n in model.nodes]\n",
    "    title=f\"Active trail of target={target} {'with evidence='+', '.join(evidences) if len(evidences) != 0 else 'with no evidence'}\"\n",
    "    draw_graph(model, title, color, title)\n",
    "\n",
    "active_trail_graph(\"Cardiovascular-disease\", [\"Age-range\", \"Gender\"], mc_model)"
   ]
  },
  {
   "cell_type": "code",
   "execution_count": null,
   "metadata": {},
   "outputs": [],
   "source": [
    "def dependency_graph(node, model):\n",
    "    active_trail_graph(node, [], model)\n",
    "\n",
    "dependency_graph(\"SHV\", mc_model)"
   ]
  },
  {
   "cell_type": "markdown",
   "metadata": {},
   "source": [
    "# Model comparison\n",
    "Let's compare our models in terms of structure and results. In particular we will compare:\n",
    "1. Manual constructed model from dataset\n",
    "2. Manual constructed model from BIF (Bayesian Interchange Format)\n",
    "3. Manual constructed model considering Covid from BIF"
   ]
  },
  {
   "cell_type": "code",
   "execution_count": null,
   "metadata": {},
   "outputs": [],
   "source": [
    "dataset_model = mc_model\n",
    "standard_model = BIFReader(\"./data/probabilities.bif\").get_model()\n",
    "covid_model = BIFReader(\"./data/probabilities_plus_Covid.bif\").get_model()"
   ]
  },
  {
   "cell_type": "code",
   "execution_count": null,
   "metadata": {},
   "outputs": [],
   "source": [
    "def get_num_parameters(model): return sum(\n",
    "    [len(cpd.get_values().ravel()) for cpd in model.get_cpds()])\n",
    "\n",
    "print(\"Number of parameters in Standard model from BIF: \" + str(get_num_parameters(standard_model)))\n",
    "print(\"Number of parameters in dataset-constructed model: \" + str(get_num_parameters(dataset_model)))\n",
    "print(\"Number of parameters in Standard model plus covid from BIF: \" + str(get_num_parameters(covid_model)))"
   ]
  },
  {
   "cell_type": "markdown",
   "metadata": {},
   "source": [
    "As can be seen from the analysis above, the dataset-constructed model contains as many parameters as the Standard model extracted from the BIF file.\\\n",
    "Furthermode, we can notice that the dataset-constructed model containing also the <i>Covid</i> node has an higher number of entries because we need also to model the probabiliy related to contracting Covid-19 and its effects on respiratory diseases.\\\n",
    "Here are some interesting comparisons between theese models:"
   ]
  },
  {
   "cell_type": "code",
   "execution_count": null,
   "metadata": {},
   "outputs": [],
   "source": [
    "models = [\n",
    "    Model(model=dataset_model, name=\"Dataset Model\"),\n",
    "    Model(model=standard_model, name=\"Standard Model\"),\n",
    "    Model(model=covid_model, name=\"Standard Model Plus Covid\")\n",
    "]\n",
    "\n",
    "models_st_ds = [\n",
    "    Model(model=dataset_model, name=\"Dataset Model\"),\n",
    "    Model(model=standard_model, name=\"Standard Model\")\n",
    "]\n",
    "models_covid = [\n",
    "    Model(model=standard_model, name=\"Standard Model\"),\n",
    "    Model(model=covid_model, name=\"Standard Model Plus Covid\")\n",
    "]\n",
    "\n",
    "# for model in models:\n",
    "#     print(model.name)\n",
    "#     for cpd in model.model.get_cpds():\n",
    "#         print_cpd_table(cpd, model.name)\n",
    "#     print(\"\\n\\n\")\n",
    "\n",
    "# plot_tables(models, [\"Death\"], {\"Other-injuries\" : \"true\", \"Unintentional-injuries\" : \"true\", \"Transport-incident\" : \"true\", \"SHV\" : \"true\", \"Sickness\":\"true\", \"Other-sickness\":\"true\"})\n",
    "plot_tables(models, [\"Sickness\"], {\"Age-range\":\"old\", \"Gender\":\"female\", \"Covid\":\"true\"})\n",
    "# plot_tables(models, [\"Death\"], {\"Other-injuries\":\"true\"})"
   ]
  },
  {
   "cell_type": "markdown",
   "metadata": {},
   "source": [
    "Comparing model which <b>includes</b> <i>Covid</i> variable with the .bif generated model <b>without</b> it, the <i>Respiratory Infection</i> probability to be True more than doubles if subject suffers from Covid, highlighting the strong weight of the virus on possibles respiratory damages.<br>\n",
    "So, the absence of the variable has a serious impact on <i>Respiratory-infection</i> probability if subject suffers from Covid, while it is completely ininfluent if <i>Covid</i>= False."
   ]
  },
  {
   "cell_type": "code",
   "execution_count": null,
   "metadata": {},
   "outputs": [],
   "source": [
    "plot_tables(models_covid, [\"Respiratory-infection\"], {\"Covid\":\"true\"}, error=True, err_label=\"Difference\")\n",
    "plot_tables(models_covid, [\"Respiratory-infection\"], {\"Covid\":\"false\"}, error=True, err_label=\"Difference\")"
   ]
  },
  {
   "cell_type": "markdown",
   "metadata": {},
   "source": [
    "As we can see in the following table, the probability of getting sick increases significantly if <i>Covid</i>= True in the model which includes this variable.\n",
    "Anyway, sickness probability changes <b>also</b> when <i>Covid</i>= False, comparing the two analyzed models, which couldn't make sense at first sight: the reason is the absence of a (Covid, Sickness) edge which would have changed probability of Sickness in the two possible cases. Instead, in the model that includes <i>Covid</i>, the <i>Sickness</i> CPD table contains higher probabilities of getting sick just because Covid <i>exists in that world</i>."
   ]
  },
  {
   "cell_type": "code",
   "execution_count": null,
   "metadata": {},
   "outputs": [],
   "source": [
    "plot_tables(models_covid, [\"Sickness\"], {\"Covid\":\"true\"}, error=True, err_label=\"Difference\")\n",
    "plot_tables(models_covid, [\"Sickness\"], {\"Covid\":\"false\"}, error=True, err_label=\"Difference\")"
   ]
  },
  {
   "cell_type": "markdown",
   "metadata": {},
   "source": [
    "We can make almost the same considerations as above: of course <i>Covid</i>= True increases <i>Death</i> probability, but also with <i>Covid</i>= False assignment, we can see differences between the two models, given by the absence of a (Covid, Death) edge and the higher chances of <i>Death</i> in the Covid model, just because of the existence of Covid in <i>that world</i>."
   ]
  },
  {
   "cell_type": "code",
   "execution_count": null,
   "metadata": {},
   "outputs": [],
   "source": [
    "plot_tables(models_covid, [\"Death\"], {\"Covid\":\"true\"}, error=True, err_label=\"Difference\")\n",
    "plot_tables(models_covid, [\"Death\"], {\"Covid\":\"false\"}, error=True, err_label=\"Difference\")"
   ]
  },
  {
   "cell_type": "code",
   "execution_count": null,
   "metadata": {},
   "outputs": [],
   "source": [
    "plot_tables(models, [\"Gender\"], {\"Transport-incident\":\"true\"})"
   ]
  },
  {
   "cell_type": "code",
   "execution_count": null,
   "metadata": {},
   "outputs": [],
   "source": [
    "plot_tables(models, [\"Age-range\"], {\"Respiratory-infection\":\"true\"})\n",
    "# print(models[2].model)"
   ]
  },
  {
   "cell_type": "code",
   "execution_count": null,
   "metadata": {},
   "outputs": [],
   "source": [
    "plot_tables(models, [\"Gender\"], {\"Death\":\"true\"})"
   ]
  }
 ],
 "metadata": {
  "kernelspec": {
   "display_name": "Python 3.8.10 64-bit",
   "language": "python",
   "name": "python3"
  },
  "language_info": {
   "codemirror_mode": {
    "name": "ipython",
    "version": 3
   },
   "file_extension": ".py",
   "mimetype": "text/x-python",
   "name": "python",
   "nbconvert_exporter": "python",
   "pygments_lexer": "ipython3",
   "version": "3.8.10"
  },
  "orig_nbformat": 4,
  "vscode": {
   "interpreter": {
    "hash": "31f2aee4e71d21fbe5cf8b01ff0e069b9275f58929596ceb00d14d90e3e16cd6"
   }
  }
 },
 "nbformat": 4,
 "nbformat_minor": 2
}
